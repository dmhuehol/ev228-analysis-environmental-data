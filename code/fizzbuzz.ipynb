{
 "cells": [
  {
   "cell_type": "markdown",
   "id": "20e56eb1",
   "metadata": {},
   "source": [
    "# Fizzbuzz\n",
    "\n",
    "Fizzbuzz is an introductory software engineering exercise that demonstrates \n",
    "concepts of loops and conditional statements."
   ]
  },
  {
   "cell_type": "markdown",
   "id": "3f100d56",
   "metadata": {},
   "source": [
    "## Goal\n",
    "A successful fizzbuzz solution does the following:  \n",
    "1. Loop from 1 to 100\n",
    "2. If the iteration is divisible by 3, print \"fizz\"\n",
    "3. If the iteration is divisible by 5, print \"buzz\"\n",
    "4. If the iteration is divisible by 3 AND 5, print \"fizzbuzz\"\n",
    "5. In any other case, don't print anything and continue\n",
    "\n",
    "**ACTIVITY: Implement your fizzbuzz solution below!**"
   ]
  },
  {
   "cell_type": "code",
   "execution_count": null,
   "id": "abd6251f",
   "metadata": {},
   "outputs": [],
   "source": [
    "# Implement your fizzbuzz solution here"
   ]
  }
 ],
 "metadata": {
  "kernelspec": {
   "display_name": "ev228",
   "language": "python",
   "name": "python3"
  },
  "language_info": {
   "name": "python",
   "version": "3.12.8"
  }
 },
 "nbformat": 4,
 "nbformat_minor": 5
}
