{
 "cells": [
  {
   "cell_type": "markdown",
   "id": "6f0504f6",
   "metadata": {},
   "source": [
    "# Statistical Moments (and their friends)\n",
    "[![Latest release](https://badgen.net/github/release/Naereen/Strapdown.js)](https://github.com/dmhuehol/ev228-analysis-environmental-data/tree/main/code)\n",
    "[![Open In Colab](https://colab.research.google.com/assets/colab-badge.svg)](https://githubtocolab.com/dmhuehol/ev228-analysis-environmental-data/blob/main/code/what_is_pdf.ipynb)  \n",
    "*This code is made available under an MIT License, included as the LICENSE file in this repository.*\n",
    "\n",
    "This example explores the statistical moments of a distribution. Moments \n",
    "refer to descriptive statistics that characterize aspects of the shape of a \n",
    "distribution. We will describe four moments in detail: the mean, variance, skewness, and \n",
    "kurtosis. \n",
    "\n",
    "The code additionally describes two other kinds of non-moment \n",
    "descriptive statistics: quantiles (and the specific case of medians) and the\n",
    "standard deviation."
   ]
  },
  {
   "cell_type": "code",
   "execution_count": null,
   "id": "bd756a2d",
   "metadata": {},
   "outputs": [],
   "source": [
    "#.............................................\n",
    "# IMPORT STATEMENTS\n",
    "#.............................................\n",
    "import numpy as np\n",
    "import matplotlib.pyplot as plt\n",
    "import scipy.stats as stats\n",
    "\n",
    "#.............................................\n",
    "# PLOTTING COMMANDS\n",
    "#.............................................\n",
    "import matplotlib as mpl\n",
    "\n",
    "# set figure defaults\n",
    "mpl.rcParams['figure.dpi'] = 150\n",
    "plt.rcParams['figure.figsize'] = (12.0/2, 10.0/2)"
   ]
  },
  {
   "cell_type": "markdown",
   "id": "df9ca95f",
   "metadata": {},
   "source": [
    "To begin, we generate a random variable of length 10,000 and plot its \n",
    "probability distribution. (See the `what_is_pdf` notebook in this repository \n",
    "for more on this.)"
   ]
  },
  {
   "cell_type": "code",
   "execution_count": null,
   "id": "65493ff6",
   "metadata": {},
   "outputs": [],
   "source": [
    "x = np.random.normal(0, 1, size=(10000,))\n",
    "\n",
    "binwidth = 0.5\n",
    "x_bins = np.arange(-20, 20, binwidth)\n",
    "hx = np.histogram(x, x_bins)\n",
    "\n",
    "plt.figure()\n",
    "\n",
    "x_vals = hx[1][:-1]\n",
    "fvalsx = hx[0].astype(float) / (np.size(x) * binwidth)\n",
    "plt.plot(x_vals + binwidth / 2, fvalsx, color='red', label='x')\n",
    "plt.xlabel('value')\n",
    "plt.xlim(-4.5, 4.5)\n",
    "plt.ylabel('frequency')\n",
    "plt.legend()\n",
    "plt.show()"
   ]
  },
  {
   "cell_type": "markdown",
   "id": "74a4cc90",
   "metadata": {},
   "source": [
    "We are now ready to describe the moments of this distribution!"
   ]
  },
  {
   "cell_type": "markdown",
   "id": "3f499523",
   "metadata": {},
   "source": [
    "### 1. The first moment\n",
    "The first moment of the distribution is the **mean**. It denotes the central \n",
    "value of the distribution relative to its extremes.  \n",
    "\n",
    "The mean for a random variable X can be calculated mathematically as:\n",
    "$$ \\bar{X} = \\frac{1}{n} \\sum_{i=1}^{n} x_i = \\frac{x_1 + x_2 + x_3 + ... + x_n}{n} $$\n",
    "\n",
    "You may have computed the mean for a dataset by hand in previous math classes \n",
    "in middle school or high school. Now, we can automate the calculation using \n",
    "code. The `numpy` package contains functions to calculate many common \n",
    "statistical quantities, including the mean."
   ]
  },
  {
   "cell_type": "code",
   "execution_count": null,
   "id": "5c7c65e0",
   "metadata": {},
   "outputs": [],
   "source": [
    "x_mean = np.mean(x)\n",
    "print(x_mean)"
   ]
  },
  {
   "cell_type": "markdown",
   "id": "90700de8",
   "metadata": {},
   "source": [
    "We can plot this on the figure. You can see that the mean lies at the center of the distribution: half of the probability (area under the curve) lies above the mean, and half lies below the mean!"
   ]
  },
  {
   "cell_type": "code",
   "execution_count": null,
   "id": "89b35d2c",
   "metadata": {},
   "outputs": [],
   "source": [
    "fig = plt.figure()\n",
    "\n",
    "x_vals = hx[1][:-1]\n",
    "fvalsx = hx[0].astype(float) / (np.size(x) * binwidth)\n",
    "plt.plot(x_vals + binwidth / 2, fvalsx, color='red', label='x')\n",
    "plt.plot([x_mean, x_mean], [0, np.max(fvalsx)], color='#e46c32', label='mean')\n",
    "plt.xlabel('value')\n",
    "plt.xlim(-4.5, 4.5)\n",
    "plt.ylabel('frequency')\n",
    "plt.legend()\n",
    "plt.show()"
   ]
  },
  {
   "cell_type": "markdown",
   "id": "15080fe8",
   "metadata": {},
   "source": [
    "**Activity: Write your own function that calculates the mean of an array of \n",
    "values. Test it to ensure it returns the same value as the `np.mean` function.**"
   ]
  },
  {
   "cell_type": "code",
   "execution_count": null,
   "id": "1c9bfc0f",
   "metadata": {},
   "outputs": [],
   "source": [
    "#  Write your function to calculate the mean here\n"
   ]
  },
  {
   "cell_type": "markdown",
   "id": "20335e45",
   "metadata": {},
   "source": [
    "#### 1a. The median\n",
    "The median is an alternate way to represent the central value of the \n",
    "distribution. It represents the middle value when the data is sorted."
   ]
  },
  {
   "cell_type": "code",
   "execution_count": null,
   "id": "3ef7f287",
   "metadata": {},
   "outputs": [],
   "source": [
    "x_median = np.quantile(x, 0.5)\n",
    "print(x_median)"
   ]
  },
  {
   "cell_type": "markdown",
   "id": "d8290179",
   "metadata": {},
   "source": [
    "In the normal distribution, the median and the mean are very similar to each \n",
    "other. For distributions with a large number of extreme values, the median and \n",
    "mean may be very different! In these cases, the median is less sensitive to the\n",
    "extreme values and usually represents a better estimate of the central value of \n",
    "the distribution. Later in this notebook when we change the distribution you \n",
    "may be able to notice these differences."
   ]
  },
  {
   "cell_type": "code",
   "execution_count": null,
   "id": "79f34418",
   "metadata": {},
   "outputs": [],
   "source": [
    "fig = plt.figure()\n",
    "\n",
    "x_vals = hx[1][:-1]\n",
    "fvalsx = hx[0].astype(float) / (np.size(x) * binwidth)\n",
    "plt.plot(x_vals + binwidth / 2, fvalsx, color='red', label='x')\n",
    "plt.plot([x_mean, x_mean], [0, np.max(fvalsx)], color='#e46c32', label='mean')\n",
    "plt.plot([x_median, x_median], [0, np.max(fvalsx)], color='#6e7aaa', label='median')\n",
    "plt.xlabel('value')\n",
    "plt.xlim(-4.5, 4.5)\n",
    "plt.ylabel('frequency')\n",
    "plt.legend()\n",
    "plt.show()"
   ]
  },
  {
   "cell_type": "markdown",
   "id": "86a8e296",
   "metadata": {},
   "source": [
    "Technically the median is a *quantile*--specifically, the 0.5th quantile. We \n",
    "can define quantiles for any value between 0 and 1. For example, the 0.2th \n",
    "quantile separates the lowest 20% of the distribution from the upper 80%.\n",
    "\n",
    "**QUESTION: What quantile corresponds to a value of approximately 2?**"
   ]
  },
  {
   "cell_type": "code",
   "execution_count": null,
   "id": "4bfbe609",
   "metadata": {},
   "outputs": [],
   "source": [
    "q = 0.2\n",
    "x_quantile = np.quantile(x, q)\n",
    "print(x_quantile)"
   ]
  },
  {
   "cell_type": "code",
   "execution_count": null,
   "id": "3d180f43",
   "metadata": {},
   "outputs": [],
   "source": [
    "fig = plt.figure()\n",
    "\n",
    "x_vals = hx[1][:-1]\n",
    "fvalsx = hx[0].astype(float) / (np.size(x) * binwidth)\n",
    "plt.plot(x_vals + binwidth / 2, fvalsx, color='red', label='x')\n",
    "plt.plot(\n",
    "    [x_mean, x_mean], [0, np.max(fvalsx)], color='#e46c32', label='mean')\n",
    "str_quant = 'quantile: ' + str(q)\n",
    "plt.plot(\n",
    "    [x_quantile, x_quantile], [0, np.max(fvalsx)], color='#6e7aaa', \n",
    "    label=str_quant)\n",
    "plt.xlabel('value')\n",
    "plt.xlim(-4.5, 4.5)\n",
    "plt.ylabel('frequency')\n",
    "plt.legend()\n",
    "plt.show()"
   ]
  },
  {
   "cell_type": "markdown",
   "id": "3dc03def",
   "metadata": {},
   "source": [
    "### 2. The second moment\n",
    "The second moment of the distribution is the **variance**. It measures how much\n",
    "range the distribution has relative to its mean."
   ]
  },
  {
   "cell_type": "code",
   "execution_count": null,
   "id": "a69dcf29",
   "metadata": {},
   "outputs": [],
   "source": [
    "x_variance = np.var(x)\n",
    "print(x_variance)"
   ]
  },
  {
   "cell_type": "markdown",
   "id": "6f2f6b33",
   "metadata": {},
   "source": [
    "As stated above, the variance represents the average deviation from the mean.\n",
    "One way to visualize this is by shading the region around the mean \n",
    "corresponding to the variance in the positive and negative direction."
   ]
  },
  {
   "cell_type": "code",
   "execution_count": null,
   "id": "cacbf68c",
   "metadata": {},
   "outputs": [],
   "source": [
    "fig = plt.figure()\n",
    "ax = fig.add_subplot(111)\n",
    "\n",
    "x_vals = hx[1][:-1]\n",
    "fvalsx = hx[0].astype(float) / (np.size(x) * binwidth)\n",
    "plt.plot(x_vals + binwidth / 2, fvalsx, color='red', label='x')\n",
    "plt.plot([x_mean, x_mean], [0, np.max(fvalsx)], color='#e46c32', label='mean')\n",
    "ax.fill_between([x_mean - x_variance, x_mean + x_variance], [np.max(fvalsx), np.max(fvalsx)], edgecolor=None, color='#5eb298', alpha=0.5)\n",
    "plt.xlabel('value')\n",
    "plt.xlim(-4.5, 4.5)\n",
    "plt.ylabel('frequency')\n",
    "plt.legend()\n",
    "plt.show()"
   ]
  },
  {
   "cell_type": "markdown",
   "id": "32ded0b0",
   "metadata": {},
   "source": [
    "**ACTIVITY: Adjust the bounds of the plot so there is no whitespace around the \n",
    "edges of the figure.**"
   ]
  },
  {
   "cell_type": "markdown",
   "id": "268edd35",
   "metadata": {},
   "source": [
    "Variance is usually expressed instead as a closely-related statistic called the \n",
    "*standard deviation*. The standard deviation is the square root of variance.\n",
    "\n",
    "The reason we typically use standard deviation is because the units of variance\n",
    "are the square of the starting units. In this example, our values are unitless\n",
    "so this is inconsequential. But, for data that represents a physical quantity\n",
    "it is much easier to interpret the standard deviation because its units will \n",
    "match those of the original measurements.\n",
    "\n",
    "**ACTIVITY: Verify that the standard deviation is equal to the square root of \n",
    "the variance. You may need to look up the numpy function to calculate a square \n",
    "root.**"
   ]
  },
  {
   "cell_type": "code",
   "execution_count": null,
   "id": "7386511f",
   "metadata": {},
   "outputs": [],
   "source": [
    "x_stdev = np.std(x)\n",
    "print(x_stdev)"
   ]
  },
  {
   "cell_type": "markdown",
   "id": "5e5a559e",
   "metadata": {},
   "source": [
    "### 3. The third moment\n",
    "The third moment of the distribution is the **skewness**. It measures how \n",
    "skewed the distribution is relative to the center; this is often described as\n",
    "the \"lopsidedness\" of the distribution."
   ]
  },
  {
   "cell_type": "code",
   "execution_count": null,
   "id": "2d84b96c",
   "metadata": {},
   "outputs": [],
   "source": [
    "x_skewness = stats.skew(x)\n",
    "print(x_skewness)"
   ]
  },
  {
   "cell_type": "markdown",
   "id": "785c79ea",
   "metadata": {},
   "source": [
    "A distribution with a skewness of zero is perfectly evenly distributed around \n",
    "the mean. The values we draw from the normal distribution by default are close \n",
    "to a skewness of zero, though not perfectly equal to this value. The figure \n",
    "below displays the distribution of the data, the mean, and skewness in the \n",
    "title."
   ]
  },
  {
   "cell_type": "code",
   "execution_count": null,
   "id": "fc4b28e1",
   "metadata": {},
   "outputs": [],
   "source": [
    "fig = plt.figure()\n",
    "ax = fig.add_subplot(111)\n",
    "\n",
    "x_vals = hx[1][:-1]\n",
    "fvalsx = hx[0].astype(float) / (np.size(x) * binwidth)\n",
    "plt.plot(x_vals + binwidth / 2, fvalsx, color='red', label='x')\n",
    "plt.plot([x_mean, x_mean], [0, np.max(fvalsx)], color='#e46c32', label='mean')\n",
    "plt.xlabel('value')\n",
    "plt.xlim(-4.5, 4.5)\n",
    "plt.ylabel('frequency')\n",
    "plt.legend()\n",
    "plt.title('skewness: ' + str(np.round(x_skewness, 3)))\n",
    "plt.show()"
   ]
  },
  {
   "cell_type": "markdown",
   "id": "33fcdbaa",
   "metadata": {},
   "source": [
    "### 4. The fourth moment\n",
    "The fourth moment of the distribution is the **kurtosis**. Kurtosis describes \n",
    "the area under the curve inside the \"tails\" of the distribution."
   ]
  },
  {
   "cell_type": "code",
   "execution_count": null,
   "id": "c2e78c3d",
   "metadata": {},
   "outputs": [],
   "source": [
    "x_kurtosis = stats.kurtosis(x)\n",
    "print(x_kurtosis)"
   ]
  },
  {
   "cell_type": "markdown",
   "id": "977fcedb",
   "metadata": {},
   "source": [
    "A distribution with a kurtosis of zero has no tails. As with skewness, the \n",
    "values we draw from the normal distribution by default have close to zero \n",
    "kurtosis. The figure below displays the distribution of the \n",
    "data with the kurtosis in the title."
   ]
  },
  {
   "cell_type": "code",
   "execution_count": null,
   "id": "6bff4e65",
   "metadata": {},
   "outputs": [],
   "source": [
    "fig = plt.figure()\n",
    "ax = fig.add_subplot(111)\n",
    "\n",
    "x_vals = hx[1][:-1]\n",
    "fvalsx = hx[0].astype(float) / (np.size(x) * binwidth)\n",
    "plt.plot(x_vals + binwidth / 2, fvalsx, color='red', label='x')\n",
    "plt.xlabel('value')\n",
    "plt.xlim(-4.5, 4.5)\n",
    "plt.ylabel('frequency')\n",
    "plt.legend()\n",
    "plt.title('kurtosis: ' + str(np.round(x_kurtosis, 3)))\n",
    "plt.show()"
   ]
  },
  {
   "cell_type": "markdown",
   "id": "78bcfbf9",
   "metadata": {},
   "source": [
    " #### A warning about kurtosis!\n",
    "Many resources online describe kurtosis as the \"peakedness\" of the \n",
    "distribution. This misinterpretation dates back to the 19th century and is not\n",
    "correct. Peakedness and kurtosis are unrelated properties. Kurtosis describes \n",
    "the tails of the distribution, not the peak(s).\n",
    "\n",
    "The exact reasons for this misconception go beyond the scope of this course. If\n",
    "you'd like to learn more, please come to my office hours or read:\n",
    "\n",
    "* Westfall 2014 \"Kurtosis as Peakedness, 1905-2014. R.I.P.\" *The American \n",
    "Statistician* [doi.org/10.1080/00031305.2014.917055](doi.org/10.1080/00031305.2014.917055)"
   ]
  },
  {
   "cell_type": "markdown",
   "id": "b829ba2a",
   "metadata": {},
   "source": [
    "### 5. Why do we call these the first/second/third/fourth moment of the distribution?\n",
    "\n",
    "The naming of these quantities comes from their mathematical definition. Each \n",
    "moment is defined as the *n*-th power of a quantity derived from the \n",
    "probability distribution function.\n",
    "\n",
    "#### Mean: The First Moment\n",
    "$$ \\bar{X} = \\frac{1}{n} \\sum_{i=1}^{n} x_i $$\n",
    "\n",
    "#### Variance: The Second Moment\n",
    "$$ \\bar{X} = \\frac{1}{n} \\sum_{i=1}^{n} x_i^2 $$\n",
    "\n",
    "#### Skewness: The Third Moment\n",
    "$$ \\bar{X} = \\frac{1}{n} \\sum_{i=1}^{n} x_i^3 $$\n",
    "\n",
    "#### Kurtosis: The Fourth Moment\n",
    "$$ \\bar{X} = \\frac{1}{n} \\sum_{i=1}^{n} x_i^4 $$\n",
    "\n",
    "#### Moment Generating Equation\n",
    "$$ m_r = \\frac{1}{n} \\sum_{i=1}^{n} x_i^r $$\n",
    "\n",
    "We can use these formulae to calculate the moments by hand. Automating this \n",
    "through code simplifies the calculation for large datasets and higher moments.\n",
    "\n",
    "One can continue to define moments for powers beyond kurtosis. Even-numbered \n",
    "powers continue to represent variance while odd powers represent skewness, and \n",
    "the quantities become more and more sensitive to extreme values. However, these \n",
    "higher-order moments have few practical applications.\n",
    "\n",
    "There are other key descriptive statistics that do not correspond to moments. \n",
    "The standard deviation, quantiles, median, and mode are three which are  \n",
    "commonly encountered and will be explored in another notebook."
   ]
  },
  {
   "cell_type": "markdown",
   "id": "ced15a85",
   "metadata": {},
   "source": [
    "**ACTIVITY: Go back to the cell where we define the distribution for our random \n",
    "variable. Change the distribution to have a mean of 1 and a standard deviation \n",
    "of 3. Repeat the code in the notebook and see how the distribution and its \n",
    "descriptive statistics change.**"
   ]
  },
  {
   "cell_type": "markdown",
   "id": "420da7a4",
   "metadata": {},
   "source": [
    "**ACTIVITY: Go back to the cell where we define the distribution for our random \n",
    "variable. Change the distribution to a gamma distribution with a mean of 1 and \n",
    "a scale of 3. The gamma distribution is another kind of statistical \n",
    "distribution which is commonly encountered in data science. Repeat the code in \n",
    "the notebook and see how the distribution and its descriptive statistics \n",
    "change.**"
   ]
  },
  {
   "cell_type": "markdown",
   "id": "6694e938",
   "metadata": {},
   "source": []
  },
  {
   "cell_type": "markdown",
   "id": "09a1a8d1",
   "metadata": {},
   "source": [
    "## Practical 1\n",
    "**This cell describes the exercise for Practical 1.**\n",
    "\n",
    "Change the distribution in some new way and repeat the notebook. You may\n",
    "either change the inputs to the `np.random.normal` function or choose another\n",
    "probability distribution available in `numpy`. The list of distributions in \n",
    "numpy are available at the following link: \n",
    "https://numpy.org/doc/stable/reference/random/legacy.html#distributions. (If \n",
    "you'd like to try another distribution, the Laplace, logistic, and Wald are \n",
    "especially fun choices that are relatively straightforward to use.)\n",
    "\n",
    "In the text field for the \"Practical 1: Distributions and Moments; Descriptive \n",
    "Statistics\" assignment on Canvas, please enter the following information:  \n",
    "    1. Describe the distribution that you used in natural language (e.g., for the default distribution this would be \"a normal distribution with a mean of 0 and standard deviation of 1\")  \n",
    "    2. Include the line of code where you generate your random variable (e.g., for the default distribution this would be `x = np.random.normal(0, 1, size=(10000,))`)  \n",
    "    3. Provide the values of the mean, *standard deviation* (not variance!), skewness, and kurtosis of your distribution each to three decimal places  \n",
    "\n"
   ]
  },
  {
   "cell_type": "markdown",
   "id": "ebd0c0b8",
   "metadata": {},
   "source": []
  }
 ],
 "metadata": {
  "kernelspec": {
   "display_name": "ev228",
   "language": "python",
   "name": "python3"
  },
  "language_info": {
   "codemirror_mode": {
    "name": "ipython",
    "version": 3
   },
   "file_extension": ".py",
   "mimetype": "text/x-python",
   "name": "python",
   "nbconvert_exporter": "python",
   "pygments_lexer": "ipython3",
   "version": "3.12.8"
  }
 },
 "nbformat": 4,
 "nbformat_minor": 5
}
